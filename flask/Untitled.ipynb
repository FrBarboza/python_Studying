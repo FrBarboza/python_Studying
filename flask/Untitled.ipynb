{
 "cells": [
  {
   "cell_type": "code",
   "execution_count": 10,
   "metadata": {},
   "outputs": [
    {
     "name": "stdout",
     "output_type": "stream",
     "text": [
      "2\n",
      "[{'hotel_id': 'alpha', 'nome': 'Alpha Hotel', 'estrelas': 4.3, 'diaria': 420.34, 'cidade': 'Rio de Janeiro'}, {'hotel_id': 'beta', 'nome': 'Beta Hotel', 'estrelas': 3.8, 'diaria': 220.34, 'cidade': 'Ria Claro'}]\n"
     ]
    }
   ],
   "source": [
    "hoteis = [\n",
    "    {\n",
    "        'hotel_id': 'alpha',\n",
    "        'nome': 'Alpha Hotel',\n",
    "        'estrelas': 4.3,\n",
    "        'diaria': 420.34,\n",
    "        'cidade': 'Rio de Janeiro'\n",
    "    },\n",
    "    {\n",
    "        'hotel_id': 'beta',\n",
    "        'nome': 'Beta Hotel',\n",
    "        'estrelas': 3.8,\n",
    "        'diaria': 220.34,\n",
    "        'cidade': 'Ria Claro'\n",
    "    },\n",
    "    {\n",
    "        'hotel_id': 'gama',\n",
    "        'nome': 'Gama Hotel',\n",
    "        'estrelas': 4.5,\n",
    "        'diaria': 380.34,\n",
    "        'cidade': 'Piracicaba'\n",
    "    },\n",
    "]\n",
    "\n",
    "idx = [i for i, j in enumerate(hoteis) if j['hotel_id'] == 'gama'][0]\n",
    "print(idx)\n",
    "hoteis.pop(idx)\n",
    "print(hoteis)\n"
   ]
  },
  {
   "cell_type": "code",
   "execution_count": 18,
   "metadata": {},
   "outputs": [
    {
     "name": "stdout",
     "output_type": "stream",
     "text": [
      "3\n"
     ]
    }
   ],
   "source": [
    "seasons = ['Spring', 'Summer', 'Fall', 'Winter']\n",
    "\n",
    "list(enumerate(seasons))\n",
    "\n",
    "x = [i for i, j in enumerate(seasons) if j == 'Winter'][0]\n",
    "print(x)"
   ]
  },
  {
   "cell_type": "code",
   "execution_count": null,
   "metadata": {},
   "outputs": [],
   "source": [
    "num_crime = 0\n",
    "\n",
    "while not int(num_crime) in range(1,11):\n",
    "    num_crime = input('Informe a gravidade do crime (0 - 10) : ')\n"
   ]
  },
  {
   "cell_type": "code",
   "execution_count": null,
   "metadata": {},
   "outputs": [],
   "source": []
  },
  {
   "cell_type": "code",
   "execution_count": null,
   "metadata": {},
   "outputs": [],
   "source": []
  }
 ],
 "metadata": {
  "kernelspec": {
   "display_name": "Python 3",
   "language": "python",
   "name": "python3"
  },
  "language_info": {
   "codemirror_mode": {
    "name": "ipython",
    "version": 3
   },
   "file_extension": ".py",
   "mimetype": "text/x-python",
   "name": "python",
   "nbconvert_exporter": "python",
   "pygments_lexer": "ipython3",
   "version": "3.8.2"
  }
 },
 "nbformat": 4,
 "nbformat_minor": 4
}
