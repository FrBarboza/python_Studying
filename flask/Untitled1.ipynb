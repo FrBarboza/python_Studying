{
 "cells": [
  {
   "cell_type": "code",
   "execution_count": 6,
   "metadata": {},
   "outputs": [
    {
     "name": "stdout",
     "output_type": "stream",
     "text": [
      "<class 'int'>\n",
      "Informe a gravidade do crime (0 - 10) : 0\n",
      "Os policiais podem resolver\n"
     ]
    }
   ],
   "source": [
    "num_crime = -1\n",
    "\n",
    "while not int(num_crime) in range(0,11):\n",
    "    num_crime = input('Informe a gravidade do crime (0 - 10) : ')\n",
    "\n",
    "if int(num_crime) < 5:\n",
    "    print('Os policiais podem resolver')\n",
    "elif int(num_crime) <= 8:\n",
    "    print('Os policiais precisam da ajuda do Batman!')\n",
    "else:\n",
    "    print('O Batman resolve sozinho!')\n"
   ]
  },
  {
   "cell_type": "code",
   "execution_count": null,
   "metadata": {},
   "outputs": [],
   "source": [
    "Validando os valores de entrada de 0 a 10 e o if / elif / else proposto.\n",
    "\n",
    "num_crime = -1\n",
    "\n",
    "while not int(num_crime) in range(0,11):\n",
    "    num_crime = input('Informe a gravidade do crime (0 - 10) : ')\n",
    "\n",
    "if int(num_crime) < 5:\n",
    "    print('Os policiais podem resolver')\n",
    "elif int(num_crime) <= 8:\n",
    "    print('Os policiais precisam da ajuda do Batman!')\n",
    "else:\n",
    "    print('O Batman resolve sozinho!')\n",
    "\n",
    "Abs,"
   ]
  },
  {
   "cell_type": "code",
   "execution_count": null,
   "metadata": {},
   "outputs": [],
   "source": []
  }
 ],
 "metadata": {
  "kernelspec": {
   "display_name": "Python 3",
   "language": "python",
   "name": "python3"
  },
  "language_info": {
   "codemirror_mode": {
    "name": "ipython",
    "version": 3
   },
   "file_extension": ".py",
   "mimetype": "text/x-python",
   "name": "python",
   "nbconvert_exporter": "python",
   "pygments_lexer": "ipython3",
   "version": "3.8.2"
  }
 },
 "nbformat": 4,
 "nbformat_minor": 4
}
